{
 "cells": [
  {
   "cell_type": "code",
   "execution_count": 1,
   "id": "58769e13",
   "metadata": {},
   "outputs": [],
   "source": [
    "import load_data as ld\n",
    "import sma as sma\n",
    "import numpy as np\n",
    "import matplotlib.pyplot as plt\n",
    "import pandas as pd"
   ]
  },
  {
   "cell_type": "code",
   "execution_count": 2,
   "id": "687b1e12",
   "metadata": {},
   "outputs": [
    {
     "name": "stdout",
     "output_type": "stream",
     "text": [
      "Available commodities:\n",
      "Crude Oil: CL=F\n",
      "Gold: GC=F\n",
      "Natural Gas: NG=F\n",
      "Silver: SI=F\n",
      "Copper: HG=F\n",
      "Corn: ZC=F\n",
      "Soybeans: ZS=F\n",
      "Wheat: KE=F\n",
      "Coffee: KC=F\n",
      "Cotton: CT=F\n",
      "Sugar: SB=F\n",
      "Aluminum: ALI=F\n",
      "Platinum: PL=F\n",
      "Palladium: PA=F\n",
      "Brent Crude: BZ=F\n",
      "Frozen Orange Juice: OJ=F\n",
      "Micro Gold: MGC=F\n",
      "Micro Silver: SIL=F\n",
      "Heating Oil: HO=F\n",
      "RBOB Gasoline: RB=F\n",
      "Oat Futures: ZO=F\n",
      "Rough Rice: ZR=F\n",
      "Soybean Oil: ZL=F\n",
      "Lean Hogs: HE=F\n",
      "Live Cattle: LE=F\n",
      "Feeder Cattle: GF=F\n",
      "Cocoa: CC=F\n"
     ]
    }
   ],
   "source": [
    "ld = ld.LoadData()\n",
    "ld.show_available_commodities()"
   ]
  },
  {
   "cell_type": "code",
   "execution_count": 4,
   "id": "2aa3bc57",
   "metadata": {},
   "outputs": [
    {
     "name": "stdout",
     "output_type": "stream",
     "text": [
      "Fetching data from 2010-02-03 to 2025-02-03\n"
     ]
    },
    {
     "name": "stderr",
     "output_type": "stream",
     "text": [
      "[*********************100%%**********************]  1 of 1 completed"
     ]
    },
    {
     "name": "stdout",
     "output_type": "stream",
     "text": [
      "Combined data saved to ./data\\combined_commodities.csv\n"
     ]
    },
    {
     "name": "stderr",
     "output_type": "stream",
     "text": [
      "\n"
     ]
    },
    {
     "data": {
      "text/html": [
       "<div>\n",
       "<style scoped>\n",
       "    .dataframe tbody tr th:only-of-type {\n",
       "        vertical-align: middle;\n",
       "    }\n",
       "\n",
       "    .dataframe tbody tr th {\n",
       "        vertical-align: top;\n",
       "    }\n",
       "\n",
       "    .dataframe thead th {\n",
       "        text-align: right;\n",
       "    }\n",
       "</style>\n",
       "<table border=\"1\" class=\"dataframe\">\n",
       "  <thead>\n",
       "    <tr style=\"text-align: right;\">\n",
       "      <th></th>\n",
       "      <th>Oat Futures</th>\n",
       "    </tr>\n",
       "    <tr>\n",
       "      <th>Date</th>\n",
       "      <th></th>\n",
       "    </tr>\n",
       "  </thead>\n",
       "  <tbody>\n",
       "    <tr>\n",
       "      <th>2010-02-05</th>\n",
       "      <td>-0.010929</td>\n",
       "    </tr>\n",
       "    <tr>\n",
       "      <th>2010-02-08</th>\n",
       "      <td>0.020994</td>\n",
       "    </tr>\n",
       "    <tr>\n",
       "      <th>2010-02-09</th>\n",
       "      <td>-0.004329</td>\n",
       "    </tr>\n",
       "    <tr>\n",
       "      <th>2010-02-10</th>\n",
       "      <td>0.009783</td>\n",
       "    </tr>\n",
       "    <tr>\n",
       "      <th>2010-02-11</th>\n",
       "      <td>0.000000</td>\n",
       "    </tr>\n",
       "    <tr>\n",
       "      <th>...</th>\n",
       "      <td>...</td>\n",
       "    </tr>\n",
       "    <tr>\n",
       "      <th>2025-01-28</th>\n",
       "      <td>-0.003569</td>\n",
       "    </tr>\n",
       "    <tr>\n",
       "      <th>2025-01-29</th>\n",
       "      <td>0.002865</td>\n",
       "    </tr>\n",
       "    <tr>\n",
       "      <th>2025-01-30</th>\n",
       "      <td>-0.002143</td>\n",
       "    </tr>\n",
       "    <tr>\n",
       "      <th>2025-01-31</th>\n",
       "      <td>-0.005011</td>\n",
       "    </tr>\n",
       "    <tr>\n",
       "      <th>2025-02-03</th>\n",
       "      <td>0.015827</td>\n",
       "    </tr>\n",
       "  </tbody>\n",
       "</table>\n",
       "<p>3771 rows × 1 columns</p>\n",
       "</div>"
      ],
      "text/plain": [
       "            Oat Futures\n",
       "Date                   \n",
       "2010-02-05    -0.010929\n",
       "2010-02-08     0.020994\n",
       "2010-02-09    -0.004329\n",
       "2010-02-10     0.009783\n",
       "2010-02-11     0.000000\n",
       "...                 ...\n",
       "2025-01-28    -0.003569\n",
       "2025-01-29     0.002865\n",
       "2025-01-30    -0.002143\n",
       "2025-01-31    -0.005011\n",
       "2025-02-03     0.015827\n",
       "\n",
       "[3771 rows x 1 columns]"
      ]
     },
     "execution_count": 4,
     "metadata": {},
     "output_type": "execute_result"
    }
   ],
   "source": [
    "commos = ['Oat Futures'] \n",
    "\n",
    "df = ld.load_data_from_yf(commodities = commos)\n",
    "df"
   ]
  }
 ],
 "metadata": {
  "kernelspec": {
   "display_name": "base",
   "language": "python",
   "name": "python3"
  },
  "language_info": {
   "codemirror_mode": {
    "name": "ipython",
    "version": 3
   },
   "file_extension": ".py",
   "mimetype": "text/x-python",
   "name": "python",
   "nbconvert_exporter": "python",
   "pygments_lexer": "ipython3",
   "version": "3.12.4"
  }
 },
 "nbformat": 4,
 "nbformat_minor": 5
}
